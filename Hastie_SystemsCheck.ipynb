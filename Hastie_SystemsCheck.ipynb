{
 "cells": [
  {
   "cell_type": "markdown",
   "id": "81732e84",
   "metadata": {},
   "source": [
    "# Heading\n",
    "\n",
    "#### Heading 4\n",
    "\n",
    "**This is bold**\n",
    "\n",
    "*italics*\n",
    "\n",
    "<ol>\n",
    "    <li>Thing</li>\n",
    "    <li>Thing</li>\n",
    "    <li>Thing</li>\n",
    "    \n",
    "</ol>\n",
    "\n",
    "![](https://psmfirestorm.blob.core.windows.net/crs-images/9005428/903745/original.jpg)"
   ]
  },
  {
   "cell_type": "code",
   "execution_count": 1,
   "id": "7cec2842",
   "metadata": {},
   "outputs": [],
   "source": [
    "myVariable = 2 + 4"
   ]
  },
  {
   "cell_type": "code",
   "execution_count": 2,
   "id": "e6b64615",
   "metadata": {},
   "outputs": [
    {
     "data": {
      "text/plain": [
       "6"
      ]
     },
     "execution_count": 2,
     "metadata": {},
     "output_type": "execute_result"
    }
   ],
   "source": [
    "myVariable"
   ]
  },
  {
   "cell_type": "code",
   "execution_count": 3,
   "id": "54ad9947",
   "metadata": {},
   "outputs": [
    {
     "name": "stdout",
     "output_type": "stream",
     "text": [
      "0\n",
      "1\n",
      "2\n",
      "3\n",
      "4\n",
      "5\n"
     ]
    }
   ],
   "source": [
    "x = (0,1,2,3,4,5)\n",
    "\n",
    "for i in x:\n",
    "    x = i + 2\n",
    "    print(i)\n"
   ]
  },
  {
   "cell_type": "code",
   "execution_count": 12,
   "id": "47e07aad",
   "metadata": {},
   "outputs": [],
   "source": [
    "def sillything(x):\n",
    "    return \"silly \" + str(x)"
   ]
  },
  {
   "cell_type": "code",
   "execution_count": 13,
   "id": "397c3805",
   "metadata": {},
   "outputs": [
    {
     "data": {
      "text/plain": [
       "'silly hi'"
      ]
     },
     "execution_count": 13,
     "metadata": {},
     "output_type": "execute_result"
    }
   ],
   "source": [
    "sillything(\"hi\")"
   ]
  },
  {
   "cell_type": "code",
   "execution_count": 14,
   "id": "0b4d7f6c",
   "metadata": {},
   "outputs": [],
   "source": [
    "j = sillything(\"dog\")"
   ]
  },
  {
   "cell_type": "code",
   "execution_count": 15,
   "id": "40cb1770",
   "metadata": {},
   "outputs": [
    {
     "data": {
      "text/plain": [
       "'silly dog'"
      ]
     },
     "execution_count": 15,
     "metadata": {},
     "output_type": "execute_result"
    }
   ],
   "source": [
    "j"
   ]
  },
  {
   "cell_type": "code",
   "execution_count": null,
   "id": "d0e70ec0",
   "metadata": {},
   "outputs": [],
   "source": []
  }
 ],
 "metadata": {
  "kernelspec": {
   "display_name": "Python 3 (ipykernel)",
   "language": "python",
   "name": "python3"
  },
  "language_info": {
   "codemirror_mode": {
    "name": "ipython",
    "version": 3
   },
   "file_extension": ".py",
   "mimetype": "text/x-python",
   "name": "python",
   "nbconvert_exporter": "python",
   "pygments_lexer": "ipython3",
   "version": "3.9.6"
  }
 },
 "nbformat": 4,
 "nbformat_minor": 5
}
